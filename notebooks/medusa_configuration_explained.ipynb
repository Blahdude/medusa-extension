{
 "cells": [
  {
   "cell_type": "code",
   "execution_count": 1,
   "metadata": {},
   "outputs": [],
   "source": [
    "import matplotlib.pyplot as plt\n",
    "import torch\n",
    "from medusa.model.utils import *"
   ]
  },
  {
   "cell_type": "code",
   "execution_count": 2,
   "metadata": {},
   "outputs": [],
   "source": [
    "medusa_choices = torch.tensor([1, 2, 3])"
   ]
  },
  {
   "cell_type": "code",
   "execution_count": 3,
   "metadata": {},
   "outputs": [
    {
     "name": "stderr",
     "output_type": "stream",
     "text": [
      "/data/tianle/speedup/FasterDecoding/pre_release/medusa/model/utils.py:23: UserWarning: To copy construct from a tensor, it is recommended to use sourceTensor.clone().detach() or sourceTensor.clone().detach().requires_grad_(True), rather than torch.tensor(sourceTensor).\n",
      "  medusa_choices = torch.tensor(medusa_choices)\n"
     ]
    }
   ],
   "source": [
    "medusa_buffers = generate_medusa_buffers(medusa_choices, device='cpu')"
   ]
  },
  {
   "cell_type": "code",
   "execution_count": 4,
   "metadata": {},
   "outputs": [
    {
     "name": "stdout",
     "output_type": "stream",
     "text": [
      "medusa_attn_mask\n",
      "tree_indices\n",
      "medusa_position_ids\n",
      "retrieve_indices\n",
      "list_indices\n"
     ]
    }
   ],
   "source": [
    "for item in medusa_buffers:\n",
    "    print(item)"
   ]
  },
  {
   "cell_type": "markdown",
   "metadata": {},
   "source": [
    "## Medusa Attention Mask\n",
    "You can see the attention mask for tree attention below. Each node can only associate with its ancestors."
   ]
  },
  {
   "cell_type": "code",
   "execution_count": 5,
   "metadata": {},
   "outputs": [
    {
     "name": "stdout",
     "output_type": "stream",
     "text": [
      "Medusa attention mask shape:  torch.Size([1, 1, 9, 9])\n"
     ]
    },
    {
     "data": {
      "text/plain": [
       "<matplotlib.image.AxesImage at 0x7f576904b040>"
      ]
     },
     "execution_count": 5,
     "metadata": {},
     "output_type": "execute_result"
    },
    {
     "data": {
      "image/png": "[encoded data removed]",
      "text/plain": [
       "<Figure size 640x480 with 1 Axes>"
      ]
     },
     "metadata": {},
     "output_type": "display_data"
    }
   ],
   "source": [
    "medusa_attn_mask = medusa_buffers['medusa_attn_mask']\n",
    "print('Medusa attention mask shape: ', medusa_attn_mask.shape)\n",
    "plt.imshow(medusa_attn_mask[0,0].cpu().numpy())"
   ]
  },
  {
   "cell_type": "markdown",
   "metadata": {},
   "source": [
    "## Explanation of Code and Outputs\n",
    "We start with a simple tensor (you can treat the values are intermediate features) named `demo_tensor`:\n",
    "``` python \n",
    "[1, 2, 3, 4, 5, 6]\n",
    "```\n",
    "Given the `medusa_choices` as `[1, 2, 3]`, the tensor can be visualized as:\n",
    "\n",
    "``` python\n",
    "[1]\n",
    "[2, 3]\n",
    "[4, 5, 6]\n",
    "```\n",
    "\n",
    "### Tree Indices\n",
    "The `tree_indices` provide us with the positions that we are looking at from the original tensor. \n",
    "\n",
    "Some of the positions are repeated, indicating that they are fetched multiple times due to the combination.\n",
    "\n",
    "The tree indices for the above tensor are:\n",
    "``` python\n",
    "[0, 1, 2, 3, 4, 5, 3, 4, 5]\n",
    "```\n",
    "\n",
    "The tree looks like this:\n",
    "\n",
    "``` python\n",
    "1\n",
    "|-- 2\n",
    "|   |-- 4\n",
    "|   |-- 5\n",
    "|   |-- 6\n",
    "|-- 3\n",
    "|   |-- 4\n",
    "|   |-- 5\n",
    "|   |-- 6\n",
    "```\n",
    "\n",
    "When we use these indices to map values from the `demo_tensor`, we get the following flatten tree representation of the tensor:\n",
    "\n",
    "``` python\n",
    "[1, 2, 3, 4, 5, 6, 4, 5, 6]\n",
    "```\n",
    "\n",
    "### Medusa Position IDs\n",
    "These are essentially depths for positions in the tree representation to make sure tokens on the same depth are applied with same position embedding.\n",
    "\n",
    "```python\n",
    "[0, 1, 1, 2, 2, 2, 2, 2, 2] # Medusa position IDs\n",
    " |  |  |  |  |  |  |  |  |\n",
    "[1, 2, 3, 4, 5, 6, 4, 5, 6] # Flatten tree representation of the tensor\n",
    "```\n",
    "\n",
    "### Retrieve Indices\n",
    "\n",
    "`retrieve_indices` provides a map from tree to cartesian product of the demo tensor. \n",
    "\n",
    "Retrieve indices: \n",
    "\n",
    "```python\n",
    "[0, 1, 3]\n",
    "[0, 1, 4]\n",
    "[0, 1, 5]\n",
    "[0, 2, 6]\n",
    "[0, 2, 7]\n",
    "[0, 2, 8]\n",
    "```\n",
    "\n",
    "When mapping values from the flatten tree using these indices, we get:\n",
    "\n",
    "``` python\n",
    "[1, 2, 4]\n",
    "[1, 2, 5]\n",
    "[1, 2, 6]\n",
    "[1, 3, 4]\n",
    "[1, 3, 5]\n",
    "[1, 3, 6]\n",
    "```\n",
    "\n",
    "### List Indices\n",
    "`list_indices` is used for future work. It is not used in the current implementation."
   ]
  },
  {
   "cell_type": "code",
   "execution_count": 6,
   "metadata": {},
   "outputs": [
    {
     "name": "stdout",
     "output_type": "stream",
     "text": [
      "Demo tensor: \n",
      " [1, 2, 3, 4, 5, 6]\n",
      "==================================================\n",
      "Tree indices: \n",
      " [0, 1, 2, 3, 4, 5, 3, 4, 5]\n",
      "Tree reprentation of the tensor: \n",
      " [1, 2, 3, 4, 5, 6, 4, 5, 6]\n",
      "==================================================\n",
      "Medusa position ids: \n",
      " [0, 1, 1, 2, 2, 2, 2, 2, 2]\n",
      "==================================================\n",
      "Retrieve indices: \n",
      " [[0, 1, 3], [0, 1, 4], [0, 1, 5], [0, 2, 6], [0, 2, 7], [0, 2, 8]]\n",
      "Retrieve reprentation of the tensor: \n",
      " [[1, 2, 4], [1, 2, 5], [1, 2, 6], [1, 3, 4], [1, 3, 5], [1, 3, 6]]\n",
      "==================================================\n",
      "List indices: \n",
      " [[0, 0, 0, 0, 0, 0], [1, 1, 1, 1, 1, 1], [2, 2, 2, 2, 2, 2], [3, 6, 3, 6, 3, 6], [4, 7, 4, 7, 4, 7], [5, 8, 5, 8, 5, 8]]\n",
      "List reprentation of the tensor: \n",
      " [[1, 1, 1, 1, 1, 1], [2, 2, 2, 2, 2, 2], [3, 3, 3, 3, 3, 3], [4, 4, 4, 4, 4, 4], [5, 5, 5, 5, 5, 5], [6, 6, 6, 6, 6, 6]]\n"
     ]
    }
   ],
   "source": [
    "demo_tensor = torch.tensor([1, 2, 3, 4, 5, 6])\n",
    "print('Demo tensor: \\n', demo_tensor.tolist())\n",
    "print('='*50)\n",
    "tree_indices = medusa_buffers['tree_indices']\n",
    "medusa_position_ids = medusa_buffers['medusa_position_ids']\n",
    "retrieve_indices = medusa_buffers['retrieve_indices']\n",
    "list_indices = medusa_buffers['list_indices']\n",
    "print('Tree indices: \\n', tree_indices.tolist())\n",
    "print('Tree reprentation of the tensor: \\n', demo_tensor[tree_indices].tolist())\n",
    "print('='*50)\n",
    "print('Medusa position ids: \\n', medusa_position_ids.tolist())\n",
    "print('='*50)\n",
    "print('Retrieve indices: \\n', retrieve_indices.tolist())\n",
    "print('Retrieve reprentation of the tensor: \\n', demo_tensor[tree_indices][retrieve_indices].tolist())\n",
    "print('='*50)\n",
    "print('List indices: \\n', list_indices.tolist())\n",
    "print('List reprentation of the tensor: \\n', demo_tensor[tree_indices][list_indices].tolist())"
   ]
  }
 ],
 "metadata": {
  "kernelspec": {
   "display_name": "medusa",
   "language": "python",
   "name": "python3"
  },
  "language_info": {
   "codemirror_mode": {
    "name": "ipython",
    "version": 3
   },
   "file_extension": ".py",
   "mimetype": "text/x-python",
   "name": "python",
   "nbconvert_exporter": "python",
   "pygments_lexer": "ipython3",
   "version": "3.9.16"
  },
  "orig_nbformat": 4
 },
 "nbformat": 4,
 "nbformat_minor": 2
}
